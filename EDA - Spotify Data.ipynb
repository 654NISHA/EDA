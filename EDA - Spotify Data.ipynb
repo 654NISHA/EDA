{
 "cells": [
  {
   "cell_type": "markdown",
   "id": "e64895e8",
   "metadata": {},
   "source": [
    "# Spotify data"
   ]
  },
  {
   "cell_type": "code",
   "execution_count": 1,
   "id": "6fe4a3bf",
   "metadata": {},
   "outputs": [],
   "source": [
    "import numpy as np\n",
    "import matplotlib.pyplot as plt\n",
    "import seaborn as sns\n",
    "import pandas as pd"
   ]
  },
  {
   "cell_type": "markdown",
   "id": "06060e56",
   "metadata": {},
   "source": [
    "### 1.Load the dataframe and ensure data quality by checking for missing values and duplicate rows.Handle missing values and remove duplicate rows if necessary."
   ]
  },
  {
   "cell_type": "code",
   "execution_count": 2,
   "id": "b145dadb",
   "metadata": {},
   "outputs": [],
   "source": [
    "df = pd.read_csv(\"spotify.csv\")"
   ]
  },
  {
   "cell_type": "code",
   "execution_count": 3,
   "id": "bb25c9eb",
   "metadata": {},
   "outputs": [
    {
     "data": {
      "text/html": [
       "<div>\n",
       "<style scoped>\n",
       "    .dataframe tbody tr th:only-of-type {\n",
       "        vertical-align: middle;\n",
       "    }\n",
       "\n",
       "    .dataframe tbody tr th {\n",
       "        vertical-align: top;\n",
       "    }\n",
       "\n",
       "    .dataframe thead th {\n",
       "        text-align: right;\n",
       "    }\n",
       "</style>\n",
       "<table border=\"1\" class=\"dataframe\">\n",
       "  <thead>\n",
       "    <tr style=\"text-align: right;\">\n",
       "      <th></th>\n",
       "      <th>Artist</th>\n",
       "      <th>Track Name</th>\n",
       "      <th>Popularity</th>\n",
       "      <th>Duration (ms)</th>\n",
       "      <th>Track ID</th>\n",
       "    </tr>\n",
       "  </thead>\n",
       "  <tbody>\n",
       "    <tr>\n",
       "      <th>0</th>\n",
       "      <td>Drake</td>\n",
       "      <td>Rich Baby Daddy (feat. Sexyy Red &amp; SZA)</td>\n",
       "      <td>92</td>\n",
       "      <td>319191</td>\n",
       "      <td>1yeB8MUNeLo9Ek1UEpsyz6</td>\n",
       "    </tr>\n",
       "    <tr>\n",
       "      <th>1</th>\n",
       "      <td>Drake</td>\n",
       "      <td>One Dance</td>\n",
       "      <td>91</td>\n",
       "      <td>173986</td>\n",
       "      <td>1zi7xx7UVEFkmKfv06H8x0</td>\n",
       "    </tr>\n",
       "    <tr>\n",
       "      <th>2</th>\n",
       "      <td>Drake</td>\n",
       "      <td>IDGAF (feat. Yeat)</td>\n",
       "      <td>90</td>\n",
       "      <td>260111</td>\n",
       "      <td>2YSzYUF3jWqb9YP9VXmpjE</td>\n",
       "    </tr>\n",
       "    <tr>\n",
       "      <th>3</th>\n",
       "      <td>Drake</td>\n",
       "      <td>First Person Shooter (feat. J. Cole)</td>\n",
       "      <td>88</td>\n",
       "      <td>247444</td>\n",
       "      <td>7aqfrAY2p9BUSiupwk3svU</td>\n",
       "    </tr>\n",
       "    <tr>\n",
       "      <th>4</th>\n",
       "      <td>Drake</td>\n",
       "      <td>Jimmy Cooks (feat. 21 Savage)</td>\n",
       "      <td>88</td>\n",
       "      <td>218364</td>\n",
       "      <td>3F5CgOj3wFlRv51JsHbxhe</td>\n",
       "    </tr>\n",
       "    <tr>\n",
       "      <th>...</th>\n",
       "      <td>...</td>\n",
       "      <td>...</td>\n",
       "      <td>...</td>\n",
       "      <td>...</td>\n",
       "      <td>...</td>\n",
       "    </tr>\n",
       "    <tr>\n",
       "      <th>435</th>\n",
       "      <td>French Montana</td>\n",
       "      <td>Splash Brothers</td>\n",
       "      <td>44</td>\n",
       "      <td>221863</td>\n",
       "      <td>3fBsEOnzwtlkpS0LxXAZhN</td>\n",
       "    </tr>\n",
       "    <tr>\n",
       "      <th>436</th>\n",
       "      <td>Fat Joe</td>\n",
       "      <td>All The Way Up (feat. Infared)</td>\n",
       "      <td>64</td>\n",
       "      <td>191900</td>\n",
       "      <td>7Ezwtgfw7khBrpvaNPtMoT</td>\n",
       "    </tr>\n",
       "    <tr>\n",
       "      <th>437</th>\n",
       "      <td>A$AP Ferg</td>\n",
       "      <td>Work REMIX (feat. A$AP Rocky, French Montana, ...</td>\n",
       "      <td>69</td>\n",
       "      <td>283693</td>\n",
       "      <td>7xVLFuuYdAvcTfcP3IG3dS</td>\n",
       "    </tr>\n",
       "    <tr>\n",
       "      <th>438</th>\n",
       "      <td>Diddy</td>\n",
       "      <td>Another One Of Me (feat. 21 Savage)</td>\n",
       "      <td>65</td>\n",
       "      <td>220408</td>\n",
       "      <td>4hGmQboiou09EwhcTWa0H6</td>\n",
       "    </tr>\n",
       "    <tr>\n",
       "      <th>439</th>\n",
       "      <td>Rick Ross</td>\n",
       "      <td>Stay Schemin</td>\n",
       "      <td>68</td>\n",
       "      <td>267720</td>\n",
       "      <td>0nq6sfr8z1R5KJ4XUk396e</td>\n",
       "    </tr>\n",
       "  </tbody>\n",
       "</table>\n",
       "<p>440 rows × 5 columns</p>\n",
       "</div>"
      ],
      "text/plain": [
       "             Artist                                         Track Name  \\\n",
       "0             Drake            Rich Baby Daddy (feat. Sexyy Red & SZA)   \n",
       "1             Drake                                          One Dance   \n",
       "2             Drake                                 IDGAF (feat. Yeat)   \n",
       "3             Drake               First Person Shooter (feat. J. Cole)   \n",
       "4             Drake                      Jimmy Cooks (feat. 21 Savage)   \n",
       "..              ...                                                ...   \n",
       "435  French Montana                                    Splash Brothers   \n",
       "436         Fat Joe                     All The Way Up (feat. Infared)   \n",
       "437       A$AP Ferg  Work REMIX (feat. A$AP Rocky, French Montana, ...   \n",
       "438           Diddy                Another One Of Me (feat. 21 Savage)   \n",
       "439       Rick Ross                                       Stay Schemin   \n",
       "\n",
       "     Popularity  Duration (ms)                Track ID  \n",
       "0            92         319191  1yeB8MUNeLo9Ek1UEpsyz6  \n",
       "1            91         173986  1zi7xx7UVEFkmKfv06H8x0  \n",
       "2            90         260111  2YSzYUF3jWqb9YP9VXmpjE  \n",
       "3            88         247444  7aqfrAY2p9BUSiupwk3svU  \n",
       "4            88         218364  3F5CgOj3wFlRv51JsHbxhe  \n",
       "..          ...            ...                     ...  \n",
       "435          44         221863  3fBsEOnzwtlkpS0LxXAZhN  \n",
       "436          64         191900  7Ezwtgfw7khBrpvaNPtMoT  \n",
       "437          69         283693  7xVLFuuYdAvcTfcP3IG3dS  \n",
       "438          65         220408  4hGmQboiou09EwhcTWa0H6  \n",
       "439          68         267720  0nq6sfr8z1R5KJ4XUk396e  \n",
       "\n",
       "[440 rows x 5 columns]"
      ]
     },
     "execution_count": 3,
     "metadata": {},
     "output_type": "execute_result"
    }
   ],
   "source": [
    "df"
   ]
  },
  {
   "cell_type": "code",
   "execution_count": 4,
   "id": "40d820d0",
   "metadata": {},
   "outputs": [
    {
     "data": {
      "text/plain": [
       "(440, 5)"
      ]
     },
     "execution_count": 4,
     "metadata": {},
     "output_type": "execute_result"
    }
   ],
   "source": [
    "df.shape"
   ]
  },
  {
   "cell_type": "code",
   "execution_count": 5,
   "id": "3da61e66",
   "metadata": {},
   "outputs": [
    {
     "data": {
      "text/plain": [
       "27"
      ]
     },
     "execution_count": 5,
     "metadata": {},
     "output_type": "execute_result"
    }
   ],
   "source": [
    "df.duplicated().sum()"
   ]
  },
  {
   "cell_type": "code",
   "execution_count": 6,
   "id": "55ba6134",
   "metadata": {},
   "outputs": [],
   "source": [
    "df.drop_duplicates(inplace = True)"
   ]
  },
  {
   "cell_type": "code",
   "execution_count": 7,
   "id": "468fd59f",
   "metadata": {},
   "outputs": [
    {
     "data": {
      "text/html": [
       "<div>\n",
       "<style scoped>\n",
       "    .dataframe tbody tr th:only-of-type {\n",
       "        vertical-align: middle;\n",
       "    }\n",
       "\n",
       "    .dataframe tbody tr th {\n",
       "        vertical-align: top;\n",
       "    }\n",
       "\n",
       "    .dataframe thead th {\n",
       "        text-align: right;\n",
       "    }\n",
       "</style>\n",
       "<table border=\"1\" class=\"dataframe\">\n",
       "  <thead>\n",
       "    <tr style=\"text-align: right;\">\n",
       "      <th></th>\n",
       "      <th>Artist</th>\n",
       "      <th>Track Name</th>\n",
       "      <th>Popularity</th>\n",
       "      <th>Duration (ms)</th>\n",
       "      <th>Track ID</th>\n",
       "    </tr>\n",
       "  </thead>\n",
       "  <tbody>\n",
       "    <tr>\n",
       "      <th>0</th>\n",
       "      <td>Drake</td>\n",
       "      <td>Rich Baby Daddy (feat. Sexyy Red &amp; SZA)</td>\n",
       "      <td>92</td>\n",
       "      <td>319191</td>\n",
       "      <td>1yeB8MUNeLo9Ek1UEpsyz6</td>\n",
       "    </tr>\n",
       "    <tr>\n",
       "      <th>1</th>\n",
       "      <td>Drake</td>\n",
       "      <td>One Dance</td>\n",
       "      <td>91</td>\n",
       "      <td>173986</td>\n",
       "      <td>1zi7xx7UVEFkmKfv06H8x0</td>\n",
       "    </tr>\n",
       "    <tr>\n",
       "      <th>2</th>\n",
       "      <td>Drake</td>\n",
       "      <td>IDGAF (feat. Yeat)</td>\n",
       "      <td>90</td>\n",
       "      <td>260111</td>\n",
       "      <td>2YSzYUF3jWqb9YP9VXmpjE</td>\n",
       "    </tr>\n",
       "    <tr>\n",
       "      <th>3</th>\n",
       "      <td>Drake</td>\n",
       "      <td>First Person Shooter (feat. J. Cole)</td>\n",
       "      <td>88</td>\n",
       "      <td>247444</td>\n",
       "      <td>7aqfrAY2p9BUSiupwk3svU</td>\n",
       "    </tr>\n",
       "    <tr>\n",
       "      <th>4</th>\n",
       "      <td>Drake</td>\n",
       "      <td>Jimmy Cooks (feat. 21 Savage)</td>\n",
       "      <td>88</td>\n",
       "      <td>218364</td>\n",
       "      <td>3F5CgOj3wFlRv51JsHbxhe</td>\n",
       "    </tr>\n",
       "    <tr>\n",
       "      <th>...</th>\n",
       "      <td>...</td>\n",
       "      <td>...</td>\n",
       "      <td>...</td>\n",
       "      <td>...</td>\n",
       "      <td>...</td>\n",
       "    </tr>\n",
       "    <tr>\n",
       "      <th>433</th>\n",
       "      <td>French Montana</td>\n",
       "      <td>Stand United</td>\n",
       "      <td>54</td>\n",
       "      <td>163971</td>\n",
       "      <td>01CHrTerCzyRpMI1MzQ4fz</td>\n",
       "    </tr>\n",
       "    <tr>\n",
       "      <th>434</th>\n",
       "      <td>Jason Derulo</td>\n",
       "      <td>Tip Toe (feat. French Montana)</td>\n",
       "      <td>65</td>\n",
       "      <td>187521</td>\n",
       "      <td>0TY3jVGwGDwDabLyQLVRQQ</td>\n",
       "    </tr>\n",
       "    <tr>\n",
       "      <th>436</th>\n",
       "      <td>Fat Joe</td>\n",
       "      <td>All The Way Up (feat. Infared)</td>\n",
       "      <td>64</td>\n",
       "      <td>191900</td>\n",
       "      <td>7Ezwtgfw7khBrpvaNPtMoT</td>\n",
       "    </tr>\n",
       "    <tr>\n",
       "      <th>437</th>\n",
       "      <td>A$AP Ferg</td>\n",
       "      <td>Work REMIX (feat. A$AP Rocky, French Montana, ...</td>\n",
       "      <td>69</td>\n",
       "      <td>283693</td>\n",
       "      <td>7xVLFuuYdAvcTfcP3IG3dS</td>\n",
       "    </tr>\n",
       "    <tr>\n",
       "      <th>438</th>\n",
       "      <td>Diddy</td>\n",
       "      <td>Another One Of Me (feat. 21 Savage)</td>\n",
       "      <td>65</td>\n",
       "      <td>220408</td>\n",
       "      <td>4hGmQboiou09EwhcTWa0H6</td>\n",
       "    </tr>\n",
       "  </tbody>\n",
       "</table>\n",
       "<p>413 rows × 5 columns</p>\n",
       "</div>"
      ],
      "text/plain": [
       "             Artist                                         Track Name  \\\n",
       "0             Drake            Rich Baby Daddy (feat. Sexyy Red & SZA)   \n",
       "1             Drake                                          One Dance   \n",
       "2             Drake                                 IDGAF (feat. Yeat)   \n",
       "3             Drake               First Person Shooter (feat. J. Cole)   \n",
       "4             Drake                      Jimmy Cooks (feat. 21 Savage)   \n",
       "..              ...                                                ...   \n",
       "433  French Montana                                       Stand United   \n",
       "434    Jason Derulo                     Tip Toe (feat. French Montana)   \n",
       "436         Fat Joe                     All The Way Up (feat. Infared)   \n",
       "437       A$AP Ferg  Work REMIX (feat. A$AP Rocky, French Montana, ...   \n",
       "438           Diddy                Another One Of Me (feat. 21 Savage)   \n",
       "\n",
       "     Popularity  Duration (ms)                Track ID  \n",
       "0            92         319191  1yeB8MUNeLo9Ek1UEpsyz6  \n",
       "1            91         173986  1zi7xx7UVEFkmKfv06H8x0  \n",
       "2            90         260111  2YSzYUF3jWqb9YP9VXmpjE  \n",
       "3            88         247444  7aqfrAY2p9BUSiupwk3svU  \n",
       "4            88         218364  3F5CgOj3wFlRv51JsHbxhe  \n",
       "..          ...            ...                     ...  \n",
       "433          54         163971  01CHrTerCzyRpMI1MzQ4fz  \n",
       "434          65         187521  0TY3jVGwGDwDabLyQLVRQQ  \n",
       "436          64         191900  7Ezwtgfw7khBrpvaNPtMoT  \n",
       "437          69         283693  7xVLFuuYdAvcTfcP3IG3dS  \n",
       "438          65         220408  4hGmQboiou09EwhcTWa0H6  \n",
       "\n",
       "[413 rows x 5 columns]"
      ]
     },
     "execution_count": 7,
     "metadata": {},
     "output_type": "execute_result"
    }
   ],
   "source": [
    "df"
   ]
  },
  {
   "cell_type": "code",
   "execution_count": 8,
   "id": "463b9085",
   "metadata": {},
   "outputs": [
    {
     "data": {
      "text/plain": [
       "(413, 5)"
      ]
     },
     "execution_count": 8,
     "metadata": {},
     "output_type": "execute_result"
    }
   ],
   "source": [
    "df.shape"
   ]
  },
  {
   "cell_type": "code",
   "execution_count": 9,
   "id": "ecb2c1de",
   "metadata": {},
   "outputs": [
    {
     "name": "stdout",
     "output_type": "stream",
     "text": [
      "<class 'pandas.core.frame.DataFrame'>\n",
      "Index: 413 entries, 0 to 438\n",
      "Data columns (total 5 columns):\n",
      " #   Column         Non-Null Count  Dtype \n",
      "---  ------         --------------  ----- \n",
      " 0   Artist         413 non-null    object\n",
      " 1   Track Name     413 non-null    object\n",
      " 2   Popularity     413 non-null    int64 \n",
      " 3   Duration (ms)  413 non-null    int64 \n",
      " 4   Track ID       413 non-null    object\n",
      "dtypes: int64(2), object(3)\n",
      "memory usage: 19.4+ KB\n"
     ]
    }
   ],
   "source": [
    "df.info()"
   ]
  },
  {
   "cell_type": "code",
   "execution_count": 10,
   "id": "8d1a5cfb",
   "metadata": {},
   "outputs": [
    {
     "name": "stdout",
     "output_type": "stream",
     "text": [
      "Unique values in each column\n",
      "Artist ---> 115\n",
      "Track Name ---> 412\n",
      "Popularity ---> 51\n",
      "Duration (ms) ---> 410\n",
      "Track ID ---> 413\n"
     ]
    },
    {
     "data": {
      "text/plain": [
       "(413, 5)"
      ]
     },
     "execution_count": 10,
     "metadata": {},
     "output_type": "execute_result"
    }
   ],
   "source": [
    "# Find unique values in each columns\n",
    "print(\"Unique values in each column\")\n",
    "for col in df.columns:\n",
    "    print(f\"{col} ---> {df[col].nunique()}\")\n",
    "    \n",
    "df.shape"
   ]
  },
  {
   "cell_type": "code",
   "execution_count": 11,
   "id": "4e092431",
   "metadata": {},
   "outputs": [
    {
     "data": {
      "text/plain": [
       "array(['Dial Drunk (with Post Malone)'], dtype=object)"
      ]
     },
     "execution_count": 11,
     "metadata": {},
     "output_type": "execute_result"
    }
   ],
   "source": [
    "df['Track Name'][df['Track Name'].duplicated()].unique()"
   ]
  },
  {
   "cell_type": "code",
   "execution_count": 12,
   "id": "1737ad94",
   "metadata": {},
   "outputs": [
    {
     "data": {
      "text/html": [
       "<div>\n",
       "<style scoped>\n",
       "    .dataframe tbody tr th:only-of-type {\n",
       "        vertical-align: middle;\n",
       "    }\n",
       "\n",
       "    .dataframe tbody tr th {\n",
       "        vertical-align: top;\n",
       "    }\n",
       "\n",
       "    .dataframe thead th {\n",
       "        text-align: right;\n",
       "    }\n",
       "</style>\n",
       "<table border=\"1\" class=\"dataframe\">\n",
       "  <thead>\n",
       "    <tr style=\"text-align: right;\">\n",
       "      <th></th>\n",
       "      <th>Artist</th>\n",
       "      <th>Track Name</th>\n",
       "      <th>Popularity</th>\n",
       "      <th>Duration (ms)</th>\n",
       "      <th>Track ID</th>\n",
       "    </tr>\n",
       "  </thead>\n",
       "  <tbody>\n",
       "    <tr>\n",
       "      <th>12</th>\n",
       "      <td>Noah Kahan</td>\n",
       "      <td>Dial Drunk (with Post Malone)</td>\n",
       "      <td>86</td>\n",
       "      <td>213817</td>\n",
       "      <td>22VHOlVYBqytsrAqV8yXBK</td>\n",
       "    </tr>\n",
       "    <tr>\n",
       "      <th>19</th>\n",
       "      <td>Noah Kahan</td>\n",
       "      <td>Dial Drunk (with Post Malone)</td>\n",
       "      <td>68</td>\n",
       "      <td>213817</td>\n",
       "      <td>5TXbpmu45IS8x0YPiUF1jy</td>\n",
       "    </tr>\n",
       "  </tbody>\n",
       "</table>\n",
       "</div>"
      ],
      "text/plain": [
       "        Artist                     Track Name  Popularity  Duration (ms)  \\\n",
       "12  Noah Kahan  Dial Drunk (with Post Malone)          86         213817   \n",
       "19  Noah Kahan  Dial Drunk (with Post Malone)          68         213817   \n",
       "\n",
       "                  Track ID  \n",
       "12  22VHOlVYBqytsrAqV8yXBK  \n",
       "19  5TXbpmu45IS8x0YPiUF1jy  "
      ]
     },
     "execution_count": 12,
     "metadata": {},
     "output_type": "execute_result"
    }
   ],
   "source": [
    "df[df['Track Name'] == 'Dial Drunk (with Post Malone)']"
   ]
  },
  {
   "cell_type": "code",
   "execution_count": 13,
   "id": "764b767f",
   "metadata": {},
   "outputs": [],
   "source": [
    "df.drop(index = 19, inplace = True)"
   ]
  },
  {
   "cell_type": "code",
   "execution_count": 14,
   "id": "7049def1",
   "metadata": {},
   "outputs": [
    {
     "data": {
      "text/html": [
       "<div>\n",
       "<style scoped>\n",
       "    .dataframe tbody tr th:only-of-type {\n",
       "        vertical-align: middle;\n",
       "    }\n",
       "\n",
       "    .dataframe tbody tr th {\n",
       "        vertical-align: top;\n",
       "    }\n",
       "\n",
       "    .dataframe thead th {\n",
       "        text-align: right;\n",
       "    }\n",
       "</style>\n",
       "<table border=\"1\" class=\"dataframe\">\n",
       "  <thead>\n",
       "    <tr style=\"text-align: right;\">\n",
       "      <th></th>\n",
       "      <th>Artist</th>\n",
       "      <th>Track Name</th>\n",
       "      <th>Popularity</th>\n",
       "      <th>Duration (ms)</th>\n",
       "      <th>Track ID</th>\n",
       "    </tr>\n",
       "  </thead>\n",
       "  <tbody>\n",
       "    <tr>\n",
       "      <th>0</th>\n",
       "      <td>Drake</td>\n",
       "      <td>Rich Baby Daddy (feat. Sexyy Red &amp; SZA)</td>\n",
       "      <td>92</td>\n",
       "      <td>319191</td>\n",
       "      <td>1yeB8MUNeLo9Ek1UEpsyz6</td>\n",
       "    </tr>\n",
       "    <tr>\n",
       "      <th>1</th>\n",
       "      <td>Drake</td>\n",
       "      <td>One Dance</td>\n",
       "      <td>91</td>\n",
       "      <td>173986</td>\n",
       "      <td>1zi7xx7UVEFkmKfv06H8x0</td>\n",
       "    </tr>\n",
       "    <tr>\n",
       "      <th>2</th>\n",
       "      <td>Drake</td>\n",
       "      <td>IDGAF (feat. Yeat)</td>\n",
       "      <td>90</td>\n",
       "      <td>260111</td>\n",
       "      <td>2YSzYUF3jWqb9YP9VXmpjE</td>\n",
       "    </tr>\n",
       "    <tr>\n",
       "      <th>3</th>\n",
       "      <td>Drake</td>\n",
       "      <td>First Person Shooter (feat. J. Cole)</td>\n",
       "      <td>88</td>\n",
       "      <td>247444</td>\n",
       "      <td>7aqfrAY2p9BUSiupwk3svU</td>\n",
       "    </tr>\n",
       "    <tr>\n",
       "      <th>4</th>\n",
       "      <td>Drake</td>\n",
       "      <td>Jimmy Cooks (feat. 21 Savage)</td>\n",
       "      <td>88</td>\n",
       "      <td>218364</td>\n",
       "      <td>3F5CgOj3wFlRv51JsHbxhe</td>\n",
       "    </tr>\n",
       "    <tr>\n",
       "      <th>...</th>\n",
       "      <td>...</td>\n",
       "      <td>...</td>\n",
       "      <td>...</td>\n",
       "      <td>...</td>\n",
       "      <td>...</td>\n",
       "    </tr>\n",
       "    <tr>\n",
       "      <th>433</th>\n",
       "      <td>French Montana</td>\n",
       "      <td>Stand United</td>\n",
       "      <td>54</td>\n",
       "      <td>163971</td>\n",
       "      <td>01CHrTerCzyRpMI1MzQ4fz</td>\n",
       "    </tr>\n",
       "    <tr>\n",
       "      <th>434</th>\n",
       "      <td>Jason Derulo</td>\n",
       "      <td>Tip Toe (feat. French Montana)</td>\n",
       "      <td>65</td>\n",
       "      <td>187521</td>\n",
       "      <td>0TY3jVGwGDwDabLyQLVRQQ</td>\n",
       "    </tr>\n",
       "    <tr>\n",
       "      <th>436</th>\n",
       "      <td>Fat Joe</td>\n",
       "      <td>All The Way Up (feat. Infared)</td>\n",
       "      <td>64</td>\n",
       "      <td>191900</td>\n",
       "      <td>7Ezwtgfw7khBrpvaNPtMoT</td>\n",
       "    </tr>\n",
       "    <tr>\n",
       "      <th>437</th>\n",
       "      <td>A$AP Ferg</td>\n",
       "      <td>Work REMIX (feat. A$AP Rocky, French Montana, ...</td>\n",
       "      <td>69</td>\n",
       "      <td>283693</td>\n",
       "      <td>7xVLFuuYdAvcTfcP3IG3dS</td>\n",
       "    </tr>\n",
       "    <tr>\n",
       "      <th>438</th>\n",
       "      <td>Diddy</td>\n",
       "      <td>Another One Of Me (feat. 21 Savage)</td>\n",
       "      <td>65</td>\n",
       "      <td>220408</td>\n",
       "      <td>4hGmQboiou09EwhcTWa0H6</td>\n",
       "    </tr>\n",
       "  </tbody>\n",
       "</table>\n",
       "<p>412 rows × 5 columns</p>\n",
       "</div>"
      ],
      "text/plain": [
       "             Artist                                         Track Name  \\\n",
       "0             Drake            Rich Baby Daddy (feat. Sexyy Red & SZA)   \n",
       "1             Drake                                          One Dance   \n",
       "2             Drake                                 IDGAF (feat. Yeat)   \n",
       "3             Drake               First Person Shooter (feat. J. Cole)   \n",
       "4             Drake                      Jimmy Cooks (feat. 21 Savage)   \n",
       "..              ...                                                ...   \n",
       "433  French Montana                                       Stand United   \n",
       "434    Jason Derulo                     Tip Toe (feat. French Montana)   \n",
       "436         Fat Joe                     All The Way Up (feat. Infared)   \n",
       "437       A$AP Ferg  Work REMIX (feat. A$AP Rocky, French Montana, ...   \n",
       "438           Diddy                Another One Of Me (feat. 21 Savage)   \n",
       "\n",
       "     Popularity  Duration (ms)                Track ID  \n",
       "0            92         319191  1yeB8MUNeLo9Ek1UEpsyz6  \n",
       "1            91         173986  1zi7xx7UVEFkmKfv06H8x0  \n",
       "2            90         260111  2YSzYUF3jWqb9YP9VXmpjE  \n",
       "3            88         247444  7aqfrAY2p9BUSiupwk3svU  \n",
       "4            88         218364  3F5CgOj3wFlRv51JsHbxhe  \n",
       "..          ...            ...                     ...  \n",
       "433          54         163971  01CHrTerCzyRpMI1MzQ4fz  \n",
       "434          65         187521  0TY3jVGwGDwDabLyQLVRQQ  \n",
       "436          64         191900  7Ezwtgfw7khBrpvaNPtMoT  \n",
       "437          69         283693  7xVLFuuYdAvcTfcP3IG3dS  \n",
       "438          65         220408  4hGmQboiou09EwhcTWa0H6  \n",
       "\n",
       "[412 rows x 5 columns]"
      ]
     },
     "execution_count": 14,
     "metadata": {},
     "output_type": "execute_result"
    }
   ],
   "source": [
    "df"
   ]
  },
  {
   "cell_type": "markdown",
   "id": "a65bbedf",
   "metadata": {},
   "source": [
    "### 2.What is the distribution of popularity among the tracks in the dataset? Visualize it using a histogram. "
   ]
  },
  {
   "cell_type": "code",
   "execution_count": 63,
   "id": "94fb7ab3",
   "metadata": {},
   "outputs": [
    {
     "data": {
      "image/png": "[encoded data removed]",
      "text/plain": [
       "<Figure size 1000x600 with 1 Axes>"
      ]
     },
     "metadata": {},
     "output_type": "display_data"
    }
   ],
   "source": [
    "plt.figure(figsize = (10,6))\n",
    "sns.histplot(data = df, x = 'Popularity', bins = 20, kde = True)\n",
    "plt.xticks(rotation = 90)\n",
    "plt.xlabel('Popularity')\n",
    "plt.ylabel('Count')\n",
    "plt.title('Distribution of popularity among Tracks')\n",
    "plt.show()"
   ]
  },
  {
   "cell_type": "markdown",
   "id": "3e087371",
   "metadata": {},
   "source": [
    "### 3.Is there any relationship between the popularity and the duration of tracks? Explore this using a scatter plot."
   ]
  },
  {
   "cell_type": "code",
   "execution_count": 16,
   "id": "1d691a65",
   "metadata": {},
   "outputs": [
    {
     "data": {
      "text/plain": [
       "0.03927374086731474"
      ]
     },
     "execution_count": 16,
     "metadata": {},
     "output_type": "execute_result"
    }
   ],
   "source": [
    "df['Popularity'].corr(df['Duration (ms)'])"
   ]
  },
  {
   "cell_type": "code",
   "execution_count": 17,
   "id": "cfbc6703",
   "metadata": {},
   "outputs": [
    {
     "data": {
      "text/plain": [
       "<Axes: xlabel='Popularity', ylabel='Duration (ms)'>"
      ]
     },
     "execution_count": 17,
     "metadata": {},
     "output_type": "execute_result"
    },
    {
     "data": {
      "image/png": "[encoded data removed]",
      "text/plain": [
       "<Figure size 640x480 with 1 Axes>"
      ]
     },
     "metadata": {},
     "output_type": "display_data"
    }
   ],
   "source": [
    "sns.scatterplot(data = df,x = 'Popularity', y = 'Duration (ms)')"
   ]
  },
  {
   "cell_type": "markdown",
   "id": "aad36dff",
   "metadata": {},
   "source": [
    "##### insights : Their is no much relationship between Popularity and Duration."
   ]
  },
  {
   "cell_type": "markdown",
   "id": "acd8fd1c",
   "metadata": {},
   "source": [
    "### 4.Which artist has the highest number of tracks in the dataset? Display the count of tracks for each artist using a countplot."
   ]
  },
  {
   "cell_type": "code",
   "execution_count": 37,
   "id": "af3ceb4e",
   "metadata": {},
   "outputs": [],
   "source": [
    "df1 = df.groupby(['Artist'])['Track Name'].count().reset_index()"
   ]
  },
  {
   "cell_type": "code",
   "execution_count": 40,
   "id": "a1f0b091",
   "metadata": {},
   "outputs": [
    {
     "data": {
      "text/html": [
       "<div>\n",
       "<style scoped>\n",
       "    .dataframe tbody tr th:only-of-type {\n",
       "        vertical-align: middle;\n",
       "    }\n",
       "\n",
       "    .dataframe tbody tr th {\n",
       "        vertical-align: top;\n",
       "    }\n",
       "\n",
       "    .dataframe thead th {\n",
       "        text-align: right;\n",
       "    }\n",
       "</style>\n",
       "<table border=\"1\" class=\"dataframe\">\n",
       "  <thead>\n",
       "    <tr style=\"text-align: right;\">\n",
       "      <th></th>\n",
       "      <th>Artist</th>\n",
       "      <th>Track Name</th>\n",
       "    </tr>\n",
       "  </thead>\n",
       "  <tbody>\n",
       "    <tr>\n",
       "      <th>29</th>\n",
       "      <td>Drake</td>\n",
       "      <td>17</td>\n",
       "    </tr>\n",
       "    <tr>\n",
       "      <th>33</th>\n",
       "      <td>Eminem</td>\n",
       "      <td>11</td>\n",
       "    </tr>\n",
       "    <tr>\n",
       "      <th>114</th>\n",
       "      <td>¥$</td>\n",
       "      <td>10</td>\n",
       "    </tr>\n",
       "    <tr>\n",
       "      <th>2</th>\n",
       "      <td>21 Savage</td>\n",
       "      <td>10</td>\n",
       "    </tr>\n",
       "    <tr>\n",
       "      <th>102</th>\n",
       "      <td>Timbaland</td>\n",
       "      <td>10</td>\n",
       "    </tr>\n",
       "    <tr>\n",
       "      <th>...</th>\n",
       "      <td>...</td>\n",
       "      <td>...</td>\n",
       "    </tr>\n",
       "    <tr>\n",
       "      <th>70</th>\n",
       "      <td>Lyrical Lemonade</td>\n",
       "      <td>1</td>\n",
       "    </tr>\n",
       "    <tr>\n",
       "      <th>71</th>\n",
       "      <td>Maroon 5</td>\n",
       "      <td>1</td>\n",
       "    </tr>\n",
       "    <tr>\n",
       "      <th>74</th>\n",
       "      <td>NEIKED</td>\n",
       "      <td>1</td>\n",
       "    </tr>\n",
       "    <tr>\n",
       "      <th>75</th>\n",
       "      <td>Nardo Wick</td>\n",
       "      <td>1</td>\n",
       "    </tr>\n",
       "    <tr>\n",
       "      <th>0</th>\n",
       "      <td>*NSYNC</td>\n",
       "      <td>1</td>\n",
       "    </tr>\n",
       "  </tbody>\n",
       "</table>\n",
       "<p>115 rows × 2 columns</p>\n",
       "</div>"
      ],
      "text/plain": [
       "               Artist  Track Name\n",
       "29              Drake          17\n",
       "33             Eminem          11\n",
       "114                ¥$          10\n",
       "2           21 Savage          10\n",
       "102         Timbaland          10\n",
       "..                ...         ...\n",
       "70   Lyrical Lemonade           1\n",
       "71           Maroon 5           1\n",
       "74             NEIKED           1\n",
       "75         Nardo Wick           1\n",
       "0              *NSYNC           1\n",
       "\n",
       "[115 rows x 2 columns]"
      ]
     },
     "execution_count": 40,
     "metadata": {},
     "output_type": "execute_result"
    }
   ],
   "source": [
    "df1.sort_values(by = 'Track Name', ascending = False)"
   ]
  },
  {
   "cell_type": "code",
   "execution_count": 47,
   "id": "fdcf1fa2",
   "metadata": {},
   "outputs": [],
   "source": [
    "df2 = df[['Track Name', 'Artist']].iloc[:30]"
   ]
  },
  {
   "cell_type": "code",
   "execution_count": 48,
   "id": "cee14069",
   "metadata": {},
   "outputs": [
    {
     "data": {
      "text/html": [
       "<div>\n",
       "<style scoped>\n",
       "    .dataframe tbody tr th:only-of-type {\n",
       "        vertical-align: middle;\n",
       "    }\n",
       "\n",
       "    .dataframe tbody tr th {\n",
       "        vertical-align: top;\n",
       "    }\n",
       "\n",
       "    .dataframe thead th {\n",
       "        text-align: right;\n",
       "    }\n",
       "</style>\n",
       "<table border=\"1\" class=\"dataframe\">\n",
       "  <thead>\n",
       "    <tr style=\"text-align: right;\">\n",
       "      <th></th>\n",
       "      <th>Track Name</th>\n",
       "      <th>Artist</th>\n",
       "    </tr>\n",
       "  </thead>\n",
       "  <tbody>\n",
       "    <tr>\n",
       "      <th>0</th>\n",
       "      <td>Rich Baby Daddy (feat. Sexyy Red &amp; SZA)</td>\n",
       "      <td>Drake</td>\n",
       "    </tr>\n",
       "    <tr>\n",
       "      <th>1</th>\n",
       "      <td>One Dance</td>\n",
       "      <td>Drake</td>\n",
       "    </tr>\n",
       "    <tr>\n",
       "      <th>2</th>\n",
       "      <td>IDGAF (feat. Yeat)</td>\n",
       "      <td>Drake</td>\n",
       "    </tr>\n",
       "    <tr>\n",
       "      <th>3</th>\n",
       "      <td>First Person Shooter (feat. J. Cole)</td>\n",
       "      <td>Drake</td>\n",
       "    </tr>\n",
       "    <tr>\n",
       "      <th>4</th>\n",
       "      <td>Jimmy Cooks (feat. 21 Savage)</td>\n",
       "      <td>Drake</td>\n",
       "    </tr>\n",
       "    <tr>\n",
       "      <th>5</th>\n",
       "      <td>God's Plan</td>\n",
       "      <td>Drake</td>\n",
       "    </tr>\n",
       "    <tr>\n",
       "      <th>6</th>\n",
       "      <td>Passionfruit</td>\n",
       "      <td>Drake</td>\n",
       "    </tr>\n",
       "    <tr>\n",
       "      <th>7</th>\n",
       "      <td>MELTDOWN (feat. Drake)</td>\n",
       "      <td>Travis Scott</td>\n",
       "    </tr>\n",
       "    <tr>\n",
       "      <th>8</th>\n",
       "      <td>Fair Trade (with Travis Scott)</td>\n",
       "      <td>Drake</td>\n",
       "    </tr>\n",
       "    <tr>\n",
       "      <th>9</th>\n",
       "      <td>Rich Flex</td>\n",
       "      <td>Drake</td>\n",
       "    </tr>\n",
       "    <tr>\n",
       "      <th>10</th>\n",
       "      <td>Sunflower - Spider-Man: Into the Spider-Verse</td>\n",
       "      <td>Post Malone</td>\n",
       "    </tr>\n",
       "    <tr>\n",
       "      <th>11</th>\n",
       "      <td>Circles</td>\n",
       "      <td>Post Malone</td>\n",
       "    </tr>\n",
       "    <tr>\n",
       "      <th>12</th>\n",
       "      <td>Dial Drunk (with Post Malone)</td>\n",
       "      <td>Noah Kahan</td>\n",
       "    </tr>\n",
       "    <tr>\n",
       "      <th>13</th>\n",
       "      <td>Chemical</td>\n",
       "      <td>Post Malone</td>\n",
       "    </tr>\n",
       "    <tr>\n",
       "      <th>14</th>\n",
       "      <td>rockstar (feat. 21 Savage)</td>\n",
       "      <td>Post Malone</td>\n",
       "    </tr>\n",
       "    <tr>\n",
       "      <th>15</th>\n",
       "      <td>Congratulations</td>\n",
       "      <td>Post Malone</td>\n",
       "    </tr>\n",
       "    <tr>\n",
       "      <th>16</th>\n",
       "      <td>I Like You (A Happier Song) (with Doja Cat)</td>\n",
       "      <td>Post Malone</td>\n",
       "    </tr>\n",
       "    <tr>\n",
       "      <th>17</th>\n",
       "      <td>Wow.</td>\n",
       "      <td>Post Malone</td>\n",
       "    </tr>\n",
       "    <tr>\n",
       "      <th>18</th>\n",
       "      <td>Better Now</td>\n",
       "      <td>Post Malone</td>\n",
       "    </tr>\n",
       "    <tr>\n",
       "      <th>20</th>\n",
       "      <td>FTCU</td>\n",
       "      <td>Nicki Minaj</td>\n",
       "    </tr>\n",
       "    <tr>\n",
       "      <th>21</th>\n",
       "      <td>Beauty And A Beat</td>\n",
       "      <td>Justin Bieber</td>\n",
       "    </tr>\n",
       "    <tr>\n",
       "      <th>22</th>\n",
       "      <td>Everybody (feat. Lil Uzi Vert)</td>\n",
       "      <td>Nicki Minaj</td>\n",
       "    </tr>\n",
       "    <tr>\n",
       "      <th>23</th>\n",
       "      <td>Starships</td>\n",
       "      <td>Nicki Minaj</td>\n",
       "    </tr>\n",
       "    <tr>\n",
       "      <th>24</th>\n",
       "      <td>Barbie World (with Aqua) [From Barbie The Album]</td>\n",
       "      <td>Nicki Minaj</td>\n",
       "    </tr>\n",
       "    <tr>\n",
       "      <th>25</th>\n",
       "      <td>Super Bass</td>\n",
       "      <td>Nicki Minaj</td>\n",
       "    </tr>\n",
       "    <tr>\n",
       "      <th>26</th>\n",
       "      <td>Bang Bang</td>\n",
       "      <td>Jessie J</td>\n",
       "    </tr>\n",
       "    <tr>\n",
       "      <th>27</th>\n",
       "      <td>Super Freaky Girl</td>\n",
       "      <td>Nicki Minaj</td>\n",
       "    </tr>\n",
       "    <tr>\n",
       "      <th>28</th>\n",
       "      <td>Tusa</td>\n",
       "      <td>KAROL G</td>\n",
       "    </tr>\n",
       "    <tr>\n",
       "      <th>29</th>\n",
       "      <td>Pink Friday Girls</td>\n",
       "      <td>Nicki Minaj</td>\n",
       "    </tr>\n",
       "    <tr>\n",
       "      <th>30</th>\n",
       "      <td>FE!N (feat. Playboi Carti)</td>\n",
       "      <td>Travis Scott</td>\n",
       "    </tr>\n",
       "  </tbody>\n",
       "</table>\n",
       "</div>"
      ],
      "text/plain": [
       "                                          Track Name         Artist\n",
       "0            Rich Baby Daddy (feat. Sexyy Red & SZA)          Drake\n",
       "1                                          One Dance          Drake\n",
       "2                                 IDGAF (feat. Yeat)          Drake\n",
       "3               First Person Shooter (feat. J. Cole)          Drake\n",
       "4                      Jimmy Cooks (feat. 21 Savage)          Drake\n",
       "5                                         God's Plan          Drake\n",
       "6                                       Passionfruit          Drake\n",
       "7                             MELTDOWN (feat. Drake)   Travis Scott\n",
       "8                     Fair Trade (with Travis Scott)          Drake\n",
       "9                                          Rich Flex          Drake\n",
       "10     Sunflower - Spider-Man: Into the Spider-Verse    Post Malone\n",
       "11                                           Circles    Post Malone\n",
       "12                     Dial Drunk (with Post Malone)     Noah Kahan\n",
       "13                                          Chemical    Post Malone\n",
       "14                        rockstar (feat. 21 Savage)    Post Malone\n",
       "15                                   Congratulations    Post Malone\n",
       "16       I Like You (A Happier Song) (with Doja Cat)    Post Malone\n",
       "17                                              Wow.    Post Malone\n",
       "18                                        Better Now    Post Malone\n",
       "20                                              FTCU    Nicki Minaj\n",
       "21                                 Beauty And A Beat  Justin Bieber\n",
       "22                    Everybody (feat. Lil Uzi Vert)    Nicki Minaj\n",
       "23                                         Starships    Nicki Minaj\n",
       "24  Barbie World (with Aqua) [From Barbie The Album]    Nicki Minaj\n",
       "25                                        Super Bass    Nicki Minaj\n",
       "26                                         Bang Bang       Jessie J\n",
       "27                                 Super Freaky Girl    Nicki Minaj\n",
       "28                                              Tusa        KAROL G\n",
       "29                                 Pink Friday Girls    Nicki Minaj\n",
       "30                        FE!N (feat. Playboi Carti)   Travis Scott"
      ]
     },
     "execution_count": 48,
     "metadata": {},
     "output_type": "execute_result"
    }
   ],
   "source": [
    "df2"
   ]
  },
  {
   "cell_type": "code",
   "execution_count": 50,
   "id": "5115b6dd",
   "metadata": {},
   "outputs": [
    {
     "data": {
      "image/png": "[encoded data removed]",
      "text/plain": [
       "<Figure size 640x480 with 1 Axes>"
      ]
     },
     "metadata": {},
     "output_type": "display_data"
    }
   ],
   "source": [
    "sns.countplot(data = df2, x = 'Artist')\n",
    "plt.xticks(rotation = 90)\n",
    "plt.title('Count of Tracks for each Artist')\n",
    "plt.xlabel('Artist')\n",
    "plt.ylabel('Count of Tracks')\n",
    "plt.grid()\n",
    "plt.show()"
   ]
  },
  {
   "cell_type": "markdown",
   "id": "be040b1d",
   "metadata": {},
   "source": [
    "### 5.What are the top 5 least popular tracks in the dataset? Provide the artist name and track name for each."
   ]
  },
  {
   "cell_type": "code",
   "execution_count": 64,
   "id": "e11b5daa",
   "metadata": {},
   "outputs": [],
   "source": [
    "df1 = df.sort_values(by = 'Popularity').head(5)"
   ]
  },
  {
   "cell_type": "code",
   "execution_count": 65,
   "id": "b2e09255",
   "metadata": {},
   "outputs": [
    {
     "data": {
      "text/html": [
       "<div>\n",
       "<style scoped>\n",
       "    .dataframe tbody tr th:only-of-type {\n",
       "        vertical-align: middle;\n",
       "    }\n",
       "\n",
       "    .dataframe tbody tr th {\n",
       "        vertical-align: top;\n",
       "    }\n",
       "\n",
       "    .dataframe thead th {\n",
       "        text-align: right;\n",
       "    }\n",
       "</style>\n",
       "<table border=\"1\" class=\"dataframe\">\n",
       "  <thead>\n",
       "    <tr style=\"text-align: right;\">\n",
       "      <th></th>\n",
       "      <th>Artist</th>\n",
       "      <th>Track Name</th>\n",
       "      <th>Popularity</th>\n",
       "      <th>Duration (ms)</th>\n",
       "      <th>Track ID</th>\n",
       "    </tr>\n",
       "  </thead>\n",
       "  <tbody>\n",
       "    <tr>\n",
       "      <th>207</th>\n",
       "      <td>Pressa</td>\n",
       "      <td>Attachments (feat. Coi Leray)</td>\n",
       "      <td>29</td>\n",
       "      <td>171000</td>\n",
       "      <td>6EfJ8Ct3GHbBz2YlyPnMYb</td>\n",
       "    </tr>\n",
       "    <tr>\n",
       "      <th>231</th>\n",
       "      <td>Justin Bieber</td>\n",
       "      <td>Intentions</td>\n",
       "      <td>35</td>\n",
       "      <td>212853</td>\n",
       "      <td>7jAVt70Xdg8EwOtsFB1ZqK</td>\n",
       "    </tr>\n",
       "    <tr>\n",
       "      <th>413</th>\n",
       "      <td>French Montana</td>\n",
       "      <td>Splash Brothers</td>\n",
       "      <td>44</td>\n",
       "      <td>221863</td>\n",
       "      <td>3fBsEOnzwtlkpS0LxXAZhN</td>\n",
       "    </tr>\n",
       "    <tr>\n",
       "      <th>225</th>\n",
       "      <td>Lil Baby</td>\n",
       "      <td>On Me - Remix</td>\n",
       "      <td>47</td>\n",
       "      <td>135444</td>\n",
       "      <td>2uUFVnVFERNxUdcmvEs7LB</td>\n",
       "    </tr>\n",
       "    <tr>\n",
       "      <th>407</th>\n",
       "      <td>Wyclef Jean</td>\n",
       "      <td>911 (feat. Mary J. Blige)</td>\n",
       "      <td>48</td>\n",
       "      <td>259333</td>\n",
       "      <td>28hgx2bWXcaBJeC9zVwrBq</td>\n",
       "    </tr>\n",
       "  </tbody>\n",
       "</table>\n",
       "</div>"
      ],
      "text/plain": [
       "             Artist                     Track Name  Popularity  Duration (ms)  \\\n",
       "207          Pressa  Attachments (feat. Coi Leray)          29         171000   \n",
       "231   Justin Bieber                     Intentions          35         212853   \n",
       "413  French Montana                Splash Brothers          44         221863   \n",
       "225        Lil Baby                  On Me - Remix          47         135444   \n",
       "407     Wyclef Jean      911 (feat. Mary J. Blige)          48         259333   \n",
       "\n",
       "                   Track ID  \n",
       "207  6EfJ8Ct3GHbBz2YlyPnMYb  \n",
       "231  7jAVt70Xdg8EwOtsFB1ZqK  \n",
       "413  3fBsEOnzwtlkpS0LxXAZhN  \n",
       "225  2uUFVnVFERNxUdcmvEs7LB  \n",
       "407  28hgx2bWXcaBJeC9zVwrBq  "
      ]
     },
     "execution_count": 65,
     "metadata": {},
     "output_type": "execute_result"
    }
   ],
   "source": [
    "df1"
   ]
  },
  {
   "cell_type": "code",
   "execution_count": 20,
   "id": "6118c260",
   "metadata": {},
   "outputs": [
    {
     "data": {
      "text/plain": [
       "207    Attachments (feat. Coi Leray)\n",
       "231                       Intentions\n",
       "413                  Splash Brothers\n",
       "225                    On Me - Remix\n",
       "407        911 (feat. Mary J. Blige)\n",
       "Name: Track Name, dtype: object"
      ]
     },
     "execution_count": 20,
     "metadata": {},
     "output_type": "execute_result"
    }
   ],
   "source": [
    "df1['Track Name']   # least popular track"
   ]
  },
  {
   "cell_type": "code",
   "execution_count": 21,
   "id": "48c3a73d",
   "metadata": {},
   "outputs": [
    {
     "data": {
      "text/plain": [
       "207            Pressa\n",
       "231     Justin Bieber\n",
       "413    French Montana\n",
       "225          Lil Baby\n",
       "407       Wyclef Jean\n",
       "Name: Artist, dtype: object"
      ]
     },
     "execution_count": 21,
     "metadata": {},
     "output_type": "execute_result"
    }
   ],
   "source": [
    "df1['Artist']    # least popular artist name"
   ]
  },
  {
   "cell_type": "markdown",
   "id": "1ad8df80",
   "metadata": {},
   "source": [
    "### 6.Among the top 5 most popular artists, which artist has the highest popularity on average?Calculate and display the average popularity for each artist. "
   ]
  },
  {
   "cell_type": "code",
   "execution_count": 22,
   "id": "de233fff",
   "metadata": {},
   "outputs": [],
   "source": [
    "df1 = df.groupby(['Artist'])['Popularity'].mean()"
   ]
  },
  {
   "cell_type": "code",
   "execution_count": 23,
   "id": "7d06d241",
   "metadata": {},
   "outputs": [
    {
     "data": {
      "text/plain": [
       "Artist\n",
       "cassö             92.000000\n",
       "Trueno            89.000000\n",
       "David Guetta      87.000000\n",
       "Travis Scott      86.555556\n",
       "Noah Kahan        86.000000\n",
       "                    ...    \n",
       "RAYE              55.000000\n",
       "Wyclef Jean       54.500000\n",
       "Arizona Zervas    54.000000\n",
       "Justin Bieber     49.000000\n",
       "Pressa            29.000000\n",
       "Name: Popularity, Length: 115, dtype: float64"
      ]
     },
     "execution_count": 23,
     "metadata": {},
     "output_type": "execute_result"
    }
   ],
   "source": [
    "df1.sort_values(ascending = False)"
   ]
  },
  {
   "cell_type": "code",
   "execution_count": 24,
   "id": "8249e109",
   "metadata": {},
   "outputs": [
    {
     "data": {
      "text/plain": [
       "Artist\n",
       "cassö           92.000000\n",
       "Trueno          89.000000\n",
       "David Guetta    87.000000\n",
       "Travis Scott    86.555556\n",
       "Noah Kahan      86.000000\n",
       "Name: Popularity, dtype: float64"
      ]
     },
     "execution_count": 24,
     "metadata": {},
     "output_type": "execute_result"
    }
   ],
   "source": [
    "df1.sort_values(ascending = False)[:5]   # top 5 most popular artist"
   ]
  },
  {
   "cell_type": "markdown",
   "id": "cce2cc64",
   "metadata": {},
   "source": [
    "### 7.For the top 5 most popular artists, what are their most popular tracks? List the track name for each artist."
   ]
  },
  {
   "cell_type": "code",
   "execution_count": 25,
   "id": "1cae1185",
   "metadata": {},
   "outputs": [],
   "source": [
    "df1 = df.sort_values(by = 'Popularity', ascending = False)"
   ]
  },
  {
   "cell_type": "code",
   "execution_count": 26,
   "id": "6d0ca35a",
   "metadata": {},
   "outputs": [
    {
     "data": {
      "text/html": [
       "<div>\n",
       "<style scoped>\n",
       "    .dataframe tbody tr th:only-of-type {\n",
       "        vertical-align: middle;\n",
       "    }\n",
       "\n",
       "    .dataframe tbody tr th {\n",
       "        vertical-align: top;\n",
       "    }\n",
       "\n",
       "    .dataframe thead th {\n",
       "        text-align: right;\n",
       "    }\n",
       "</style>\n",
       "<table border=\"1\" class=\"dataframe\">\n",
       "  <thead>\n",
       "    <tr style=\"text-align: right;\">\n",
       "      <th></th>\n",
       "      <th>Artist</th>\n",
       "      <th>Track Name</th>\n",
       "      <th>Popularity</th>\n",
       "    </tr>\n",
       "  </thead>\n",
       "  <tbody>\n",
       "    <tr>\n",
       "      <th>40</th>\n",
       "      <td>Jack Harlow</td>\n",
       "      <td>Lovin On Me</td>\n",
       "      <td>97</td>\n",
       "    </tr>\n",
       "    <tr>\n",
       "      <th>70</th>\n",
       "      <td>21 Savage</td>\n",
       "      <td>redrum</td>\n",
       "      <td>96</td>\n",
       "    </tr>\n",
       "    <tr>\n",
       "      <th>260</th>\n",
       "      <td>¥$</td>\n",
       "      <td>CARNIVAL</td>\n",
       "      <td>96</td>\n",
       "    </tr>\n",
       "    <tr>\n",
       "      <th>30</th>\n",
       "      <td>Travis Scott</td>\n",
       "      <td>FE!N (feat. Playboi Carti)</td>\n",
       "      <td>93</td>\n",
       "    </tr>\n",
       "    <tr>\n",
       "      <th>0</th>\n",
       "      <td>Drake</td>\n",
       "      <td>Rich Baby Daddy (feat. Sexyy Red &amp; SZA)</td>\n",
       "      <td>92</td>\n",
       "    </tr>\n",
       "  </tbody>\n",
       "</table>\n",
       "</div>"
      ],
      "text/plain": [
       "           Artist                               Track Name  Popularity\n",
       "40    Jack Harlow                              Lovin On Me          97\n",
       "70      21 Savage                                   redrum          96\n",
       "260            ¥$                                 CARNIVAL          96\n",
       "30   Travis Scott               FE!N (feat. Playboi Carti)          93\n",
       "0           Drake  Rich Baby Daddy (feat. Sexyy Red & SZA)          92"
      ]
     },
     "execution_count": 26,
     "metadata": {},
     "output_type": "execute_result"
    }
   ],
   "source": [
    "df1 [['Artist','Track Name', 'Popularity']].iloc[:5]"
   ]
  },
  {
   "cell_type": "markdown",
   "id": "e7cfc68b",
   "metadata": {},
   "source": [
    "### 8.Visualize relationships between multiple numerical variables simultaneously using a pair plot.\n"
   ]
  },
  {
   "cell_type": "code",
   "execution_count": 27,
   "id": "b9f3afe8",
   "metadata": {},
   "outputs": [
    {
     "name": "stderr",
     "output_type": "stream",
     "text": [
      "C:\\ProgramData\\anaconda3\\Lib\\site-packages\\seaborn\\axisgrid.py:118: UserWarning: The figure layout has changed to tight\n",
      "  self._figure.tight_layout(*args, **kwargs)\n"
     ]
    },
    {
     "data": {
      "text/plain": [
       "<seaborn.axisgrid.PairGrid at 0x23466f35bd0>"
      ]
     },
     "execution_count": 27,
     "metadata": {},
     "output_type": "execute_result"
    },
    {
     "data": {
      "image/png": "[encoded data removed]",
      "text/plain": [
       "<Figure size 500x500 with 6 Axes>"
      ]
     },
     "metadata": {},
     "output_type": "display_data"
    }
   ],
   "source": [
    "sns.pairplot(data = df)"
   ]
  },
  {
   "cell_type": "markdown",
   "id": "11c60ddc",
   "metadata": {},
   "source": [
    "### 9.Does the duration of tracks vary significantly across different artists? Explore this visually using a box plot or violin plot.\n"
   ]
  },
  {
   "cell_type": "code",
   "execution_count": 28,
   "id": "b9ced715",
   "metadata": {},
   "outputs": [
    {
     "data": {
      "text/html": [
       "<div>\n",
       "<style scoped>\n",
       "    .dataframe tbody tr th:only-of-type {\n",
       "        vertical-align: middle;\n",
       "    }\n",
       "\n",
       "    .dataframe tbody tr th {\n",
       "        vertical-align: top;\n",
       "    }\n",
       "\n",
       "    .dataframe thead th {\n",
       "        text-align: right;\n",
       "    }\n",
       "</style>\n",
       "<table border=\"1\" class=\"dataframe\">\n",
       "  <thead>\n",
       "    <tr style=\"text-align: right;\">\n",
       "      <th></th>\n",
       "      <th>Artist</th>\n",
       "      <th>Track Name</th>\n",
       "      <th>Popularity</th>\n",
       "      <th>Duration (ms)</th>\n",
       "      <th>Track ID</th>\n",
       "    </tr>\n",
       "  </thead>\n",
       "  <tbody>\n",
       "    <tr>\n",
       "      <th>40</th>\n",
       "      <td>Jack Harlow</td>\n",
       "      <td>Lovin On Me</td>\n",
       "      <td>97</td>\n",
       "      <td>138411</td>\n",
       "      <td>4xhsWYTOGcal8zt0J161CU</td>\n",
       "    </tr>\n",
       "    <tr>\n",
       "      <th>70</th>\n",
       "      <td>21 Savage</td>\n",
       "      <td>redrum</td>\n",
       "      <td>96</td>\n",
       "      <td>270697</td>\n",
       "      <td>52eIcoLUM25zbQupAZYoFh</td>\n",
       "    </tr>\n",
       "    <tr>\n",
       "      <th>260</th>\n",
       "      <td>¥$</td>\n",
       "      <td>CARNIVAL</td>\n",
       "      <td>96</td>\n",
       "      <td>264324</td>\n",
       "      <td>3w0w2T288dec0mgeZZqoNN</td>\n",
       "    </tr>\n",
       "    <tr>\n",
       "      <th>30</th>\n",
       "      <td>Travis Scott</td>\n",
       "      <td>FE!N (feat. Playboi Carti)</td>\n",
       "      <td>93</td>\n",
       "      <td>191700</td>\n",
       "      <td>42VsgItocQwOQC3XWZ8JNA</td>\n",
       "    </tr>\n",
       "    <tr>\n",
       "      <th>0</th>\n",
       "      <td>Drake</td>\n",
       "      <td>Rich Baby Daddy (feat. Sexyy Red &amp; SZA)</td>\n",
       "      <td>92</td>\n",
       "      <td>319191</td>\n",
       "      <td>1yeB8MUNeLo9Ek1UEpsyz6</td>\n",
       "    </tr>\n",
       "    <tr>\n",
       "      <th>...</th>\n",
       "      <td>...</td>\n",
       "      <td>...</td>\n",
       "      <td>...</td>\n",
       "      <td>...</td>\n",
       "      <td>...</td>\n",
       "    </tr>\n",
       "    <tr>\n",
       "      <th>407</th>\n",
       "      <td>Wyclef Jean</td>\n",
       "      <td>911 (feat. Mary J. Blige)</td>\n",
       "      <td>48</td>\n",
       "      <td>259333</td>\n",
       "      <td>28hgx2bWXcaBJeC9zVwrBq</td>\n",
       "    </tr>\n",
       "    <tr>\n",
       "      <th>225</th>\n",
       "      <td>Lil Baby</td>\n",
       "      <td>On Me - Remix</td>\n",
       "      <td>47</td>\n",
       "      <td>135444</td>\n",
       "      <td>2uUFVnVFERNxUdcmvEs7LB</td>\n",
       "    </tr>\n",
       "    <tr>\n",
       "      <th>413</th>\n",
       "      <td>French Montana</td>\n",
       "      <td>Splash Brothers</td>\n",
       "      <td>44</td>\n",
       "      <td>221863</td>\n",
       "      <td>3fBsEOnzwtlkpS0LxXAZhN</td>\n",
       "    </tr>\n",
       "    <tr>\n",
       "      <th>231</th>\n",
       "      <td>Justin Bieber</td>\n",
       "      <td>Intentions</td>\n",
       "      <td>35</td>\n",
       "      <td>212853</td>\n",
       "      <td>7jAVt70Xdg8EwOtsFB1ZqK</td>\n",
       "    </tr>\n",
       "    <tr>\n",
       "      <th>207</th>\n",
       "      <td>Pressa</td>\n",
       "      <td>Attachments (feat. Coi Leray)</td>\n",
       "      <td>29</td>\n",
       "      <td>171000</td>\n",
       "      <td>6EfJ8Ct3GHbBz2YlyPnMYb</td>\n",
       "    </tr>\n",
       "  </tbody>\n",
       "</table>\n",
       "<p>412 rows × 5 columns</p>\n",
       "</div>"
      ],
      "text/plain": [
       "             Artist                               Track Name  Popularity  \\\n",
       "40      Jack Harlow                              Lovin On Me          97   \n",
       "70        21 Savage                                   redrum          96   \n",
       "260              ¥$                                 CARNIVAL          96   \n",
       "30     Travis Scott               FE!N (feat. Playboi Carti)          93   \n",
       "0             Drake  Rich Baby Daddy (feat. Sexyy Red & SZA)          92   \n",
       "..              ...                                      ...         ...   \n",
       "407     Wyclef Jean                911 (feat. Mary J. Blige)          48   \n",
       "225        Lil Baby                            On Me - Remix          47   \n",
       "413  French Montana                          Splash Brothers          44   \n",
       "231   Justin Bieber                               Intentions          35   \n",
       "207          Pressa            Attachments (feat. Coi Leray)          29   \n",
       "\n",
       "     Duration (ms)                Track ID  \n",
       "40          138411  4xhsWYTOGcal8zt0J161CU  \n",
       "70          270697  52eIcoLUM25zbQupAZYoFh  \n",
       "260         264324  3w0w2T288dec0mgeZZqoNN  \n",
       "30          191700  42VsgItocQwOQC3XWZ8JNA  \n",
       "0           319191  1yeB8MUNeLo9Ek1UEpsyz6  \n",
       "..             ...                     ...  \n",
       "407         259333  28hgx2bWXcaBJeC9zVwrBq  \n",
       "225         135444  2uUFVnVFERNxUdcmvEs7LB  \n",
       "413         221863  3fBsEOnzwtlkpS0LxXAZhN  \n",
       "231         212853  7jAVt70Xdg8EwOtsFB1ZqK  \n",
       "207         171000  6EfJ8Ct3GHbBz2YlyPnMYb  \n",
       "\n",
       "[412 rows x 5 columns]"
      ]
     },
     "execution_count": 28,
     "metadata": {},
     "output_type": "execute_result"
    }
   ],
   "source": [
    "df1"
   ]
  },
  {
   "cell_type": "code",
   "execution_count": 29,
   "id": "dc524879",
   "metadata": {},
   "outputs": [],
   "source": [
    "df2 = df1.head(20)"
   ]
  },
  {
   "cell_type": "code",
   "execution_count": 30,
   "id": "d5b6e11f",
   "metadata": {},
   "outputs": [
    {
     "data": {
      "text/plain": [
       "(array([ 0,  1,  2,  3,  4,  5,  6,  7,  8,  9, 10, 11, 12]),\n",
       " [Text(0, 0, 'Jack Harlow'),\n",
       "  Text(1, 0, '21 Savage'),\n",
       "  Text(2, 0, '¥$'),\n",
       "  Text(3, 0, 'Travis Scott'),\n",
       "  Text(4, 0, 'Drake'),\n",
       "  Text(5, 0, 'cassö'),\n",
       "  Text(6, 0, 'Bizarrap'),\n",
       "  Text(7, 0, 'J. Cole'),\n",
       "  Text(8, 0, 'Metro Boomin'),\n",
       "  Text(9, 0, 'Gunna'),\n",
       "  Text(10, 0, 'Quevedo'),\n",
       "  Text(11, 0, 'Eminem'),\n",
       "  Text(12, 0, 'Jung Kook')])"
      ]
     },
     "execution_count": 30,
     "metadata": {},
     "output_type": "execute_result"
    },
    {
     "data": {
      "image/png": "[encoded data removed]",
      "text/plain": [
       "<Figure size 640x480 with 1 Axes>"
      ]
     },
     "metadata": {},
     "output_type": "display_data"
    }
   ],
   "source": [
    "sns.boxplot(data = df2, x = 'Artist', y = 'Duration (ms)')\n",
    "plt.xticks(rotation = 90)"
   ]
  },
  {
   "cell_type": "markdown",
   "id": "e60fbe5a",
   "metadata": {},
   "source": [
    "### 10.How does the distribution of track popularity vary for different artists? Visualize this using a swarm plot or a violin plot."
   ]
  },
  {
   "cell_type": "code",
   "execution_count": 31,
   "id": "75fa1c3a",
   "metadata": {},
   "outputs": [
    {
     "data": {
      "text/plain": [
       "(array([ 0,  1,  2,  3,  4,  5,  6,  7,  8,  9, 10, 11, 12]),\n",
       " [Text(0, 0, 'Jack Harlow'),\n",
       "  Text(1, 0, '21 Savage'),\n",
       "  Text(2, 0, '¥$'),\n",
       "  Text(3, 0, 'Travis Scott'),\n",
       "  Text(4, 0, 'Drake'),\n",
       "  Text(5, 0, 'cassö'),\n",
       "  Text(6, 0, 'Bizarrap'),\n",
       "  Text(7, 0, 'J. Cole'),\n",
       "  Text(8, 0, 'Metro Boomin'),\n",
       "  Text(9, 0, 'Gunna'),\n",
       "  Text(10, 0, 'Quevedo'),\n",
       "  Text(11, 0, 'Eminem'),\n",
       "  Text(12, 0, 'Jung Kook')])"
      ]
     },
     "execution_count": 31,
     "metadata": {},
     "output_type": "execute_result"
    },
    {
     "data": {
      "image/png": "[encoded data removed]",
      "text/plain": [
       "<Figure size 640x480 with 1 Axes>"
      ]
     },
     "metadata": {},
     "output_type": "display_data"
    }
   ],
   "source": [
    "sns.violinplot(data = df2, x = 'Artist', y = 'Popularity')\n",
    "plt.xticks(rotation = 90)"
   ]
  },
  {
   "cell_type": "code",
   "execution_count": null,
   "id": "cf1fe0a2",
   "metadata": {},
   "outputs": [],
   "source": []
  }
 ],
 "metadata": {
  "kernelspec": {
   "display_name": "Python 3 (ipykernel)",
   "language": "python",
   "name": "python3"
  },
  "language_info": {
   "codemirror_mode": {
    "name": "ipython",
    "version": 3
   },
   "file_extension": ".py",
   "mimetype": "text/x-python",
   "name": "python",
   "nbconvert_exporter": "python",
   "pygments_lexer": "ipython3",
   "version": "3.11.5"
  }
 },
 "nbformat": 4,
 "nbformat_minor": 5
}
